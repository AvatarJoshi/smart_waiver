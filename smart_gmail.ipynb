{
 "cells": [
  {
   "cell_type": "code",
   "execution_count": 1,
   "metadata": {},
   "outputs": [],
   "source": [
    "import os.path\n",
    "import base64\n",
    "from oauth2client.service_account import ServiceAccountCredentials\n",
    "from googleapiclient.discovery import build\n",
    "from google_auth_oauthlib.flow import InstalledAppFlow\n",
    "from google.auth.transport.requests import Request\n",
    "from email.mime.multipart import MIMEMultipart\n",
    "from email.mime.text import MIMEText"
   ]
  },
  {
   "cell_type": "code",
   "execution_count": 2,
   "metadata": {},
   "outputs": [],
   "source": [
    "# path the service account key JSON file\n",
    "key_file_path = \"./smartwaiver-388021-9a8ea3b56852.json\"\n",
    "\n",
    "# defines APIs to be used\n",
    "scope = ['https://spreadsheets.google.com/feeds', \n",
    "         'https://www.googleapis.com/auth/drive', \n",
    "         'https://www.googleapis.com/auth/documents.readonly']\n",
    "\n",
    "# creates credentials \n",
    "creds = ServiceAccountCredentials.from_json_keyfile_name(key_file_path, scope)\n"
   ]
  },
  {
   "cell_type": "code",
   "execution_count": 3,
   "metadata": {},
   "outputs": [],
   "source": [
    "from googleapiclient.discovery import build\n",
    "\n",
    "def get_doc_content(service, document_id):\n",
    "    document = service.documents().get(documentId=document_id).execute()\n",
    "    doc_content = document.get('body').get('content')\n",
    "    return doc_content"
   ]
  },
  {
   "cell_type": "code",
   "execution_count": 4,
   "metadata": {},
   "outputs": [],
   "source": [
    "def extract_subject_and_body(doc_content):\n",
    "    text = \"\"\n",
    "    for value in doc_content:\n",
    "        if 'paragraph' in value:\n",
    "            elements = value.get('paragraph').get('elements')\n",
    "            for elem in elements:\n",
    "                text_run = elem.get('textRun')\n",
    "                if text_run and 'content' in text_run:\n",
    "                    text += text_run.get('content')\n",
    "    text_list = text.split(\"\\n\")\n",
    "    email_subject_index = text_list.index(\"email_subject\") + 1\n",
    "    email_body_index = text_list.index(\"email_body\") + 1\n",
    "    email_subject = text_list[email_subject_index]\n",
    "    email_body = text_list[email_body_index]\n",
    "    return email_subject, email_body\n",
    "\n",
    "service = build('docs', 'v1', credentials=creds)\n",
    "# this code is between /d and /edit in url \n",
    "# example -> https://docs.google.com/document/d/13_xSd2YaiEP_p1DJl0A5gnsg2z0ahaN27BAtXfWcw2M/edit\n",
    "document_id = '13_xSd2YaiEP_p1DJl0A5gnsg2z0ahaN27BAtXfWcw2M'  \n",
    "doc_content = get_doc_content(service, document_id)\n",
    "email_subject, email_body = extract_subject_and_body(doc_content)"
   ]
  },
  {
   "cell_type": "code",
   "execution_count": 7,
   "metadata": {},
   "outputs": [
    {
     "name": "stdout",
     "output_type": "stream",
     "text": [
      "SCMTS - Please Sign Waivers for Your Upcoming Event!\n",
      "Dear {name},\n"
     ]
    }
   ],
   "source": [
    "print(email_subject)\n",
    "print(email_body)"
   ]
  },
  {
   "cell_type": "code",
   "execution_count": null,
   "metadata": {},
   "outputs": [],
   "source": []
  }
 ],
 "metadata": {
  "kernelspec": {
   "display_name": "PythonData",
   "language": "python",
   "name": "python3"
  },
  "language_info": {
   "codemirror_mode": {
    "name": "ipython",
    "version": 3
   },
   "file_extension": ".py",
   "mimetype": "text/x-python",
   "name": "python",
   "nbconvert_exporter": "python",
   "pygments_lexer": "ipython3",
   "version": "3.7.13"
  },
  "orig_nbformat": 4
 },
 "nbformat": 4,
 "nbformat_minor": 2
}
