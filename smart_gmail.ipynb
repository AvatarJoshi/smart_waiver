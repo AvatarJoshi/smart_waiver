{
 "cells": [
  {
   "cell_type": "code",
   "execution_count": 24,
   "metadata": {},
   "outputs": [],
   "source": [
    "import os\n",
    "import base64\n",
    "import pandas as pd\n",
    "from google.oauth2.credentials import Credentials\n",
    "from google_auth_oauthlib.flow import InstalledAppFlow\n",
    "from google.auth.transport.requests import Request\n",
    "from googleapiclient.discovery import build\n",
    "from googleapiclient.errors import HttpError"
   ]
  },
  {
   "cell_type": "code",
   "execution_count": 25,
   "metadata": {},
   "outputs": [],
   "source": [
    "# Functions\n",
    "def get_doc_content(service, document_id):\n",
    "    document = service.documents().get(documentId=document_id).execute()\n",
    "    doc_content = document.get('body').get('content')\n",
    "    return doc_content\n",
    "\n",
    "# Function to extract subject and body from doc content\n",
    "def extract_subject_and_body(doc_content):\n",
    "    subject = ''\n",
    "    body = ''\n",
    "    is_subject = False\n",
    "    is_body = False\n",
    "    for item in doc_content:\n",
    "        if 'paragraph' in item:\n",
    "            elements = item.get('paragraph').get('elements')\n",
    "            text = ''\n",
    "            for element in elements:\n",
    "                text_run = element.get('textRun', {})\n",
    "                content = text_run.get('content', '')\n",
    "                text += content\n",
    "\n",
    "            if text.strip() == 'email_subject':\n",
    "                is_subject = True\n",
    "                continue\n",
    "            elif text.strip() == 'email_body':\n",
    "                is_body = True\n",
    "                is_subject = False\n",
    "                continue\n",
    "\n",
    "            if is_subject:\n",
    "                subject += text\n",
    "            elif is_body:\n",
    "                body += text\n",
    "\n",
    "    return subject.strip(), body.strip()"
   ]
  },
  {
   "cell_type": "code",
   "execution_count": 26,
   "metadata": {},
   "outputs": [
    {
     "name": "stdout",
     "output_type": "stream",
     "text": [
      "Please visit this URL to authorize this application: https://accounts.google.com/o/oauth2/auth?response_type=code&client_id=600207218247-88idqn5h1tadq1d2gl7tkn826l63ud41.apps.googleusercontent.com&redirect_uri=http%3A%2F%2Flocalhost%3A53846%2F&scope=https%3A%2F%2Fwww.googleapis.com%2Fauth%2Fgmail.compose+https%3A%2F%2Fwww.googleapis.com%2Fauth%2Fdocuments.readonly&state=EbGPOxK6ol89O7B64K5x59uHi1t1vL&access_type=offline\n"
     ]
    }
   ],
   "source": [
    "# Establish GoogleAPI Scopes and Instance\n",
    "SCOPES = ['https://www.googleapis.com/auth/gmail.compose', 'https://www.googleapis.com/auth/documents.readonly']\n",
    "creds = None\n",
    "if os.path.exists('token.json'):\n",
    "    creds = Credentials.from_authorized_user_file('token.json', SCOPES)\n",
    "if not creds or not creds.valid:\n",
    "    if creds and creds.expired and creds.refresh_token:\n",
    "        creds.refresh(Request())\n",
    "    else:\n",
    "        flow = InstalledAppFlow.from_client_secrets_file('client_secret_600207218247-88idqn5h1tadq1d2gl7tkn826l63ud41.apps.googleusercontent.com.json', SCOPES)\n",
    "        creds = flow.run_local_server(port=0)\n",
    "    with open('token.json', 'w') as token:\n",
    "        token.write(creds.to_json())"
   ]
  },
  {
   "cell_type": "code",
   "execution_count": 27,
   "metadata": {},
   "outputs": [],
   "source": [
    "# Extract email content from Google Doc\n",
    "doc_service = build('docs', 'v1', credentials=creds)\n",
    "# The document id is found between the /d and the /edit portions of the GoogleDoc URL \n",
    "# Here is an example URL https://docs.google.com/document/d/13_xSd2YaiEP_p1DJl0A5gnsg2z0ahaN27BAtXfWcw2M/edit\n",
    "document_id = '13_xSd2YaiEP_p1DJl0A5gnsg2z0ahaN27BAtXfWcw2M'\n",
    "doc_content = get_doc_content(doc_service, document_id)\n",
    "email_subject, email_body = extract_subject_and_body(doc_content)\n",
    "\n",
    "# Read names and emails from CSV file\n",
    "unmatched_names = pd.read_csv('unmatched_names.csv')\n",
    "\n",
    "# Sending personalized emails\n",
    "for index, row in unmatched_names.iterrows():\n",
    "    recipient_email = row[\"Email\"]  # Extract email from the \"Email\" column\n",
    "    personalized_email_body = email_body.replace(\"{name}\", row[\"First\"] + \" \" + row[\"Last\"])\n",
    "    message = f'To: {recipient_email}\\nSubject: {email_subject}\\n\\n{personalized_email_body}'\n",
    "    message_bytes = message.encode('utf-8')\n",
    "    encoded_message = base64.urlsafe_b64encode(message_bytes).decode('utf-8')\n",
    "\n",
    "    email = {'raw': encoded_message}\n",
    "\n",
    "    # Try to send the email, print error content if there is an HttpError\n",
    "    try:\n",
    "        gmail_service.users().messages().send(userId='me', body=email).execute()\n",
    "    except HttpError as error:\n",
    "        print(error.content)"
   ]
  }
 ],
 "metadata": {
  "kernelspec": {
   "display_name": "PythonData",
   "language": "python",
   "name": "python3"
  },
  "language_info": {
   "codemirror_mode": {
    "name": "ipython",
    "version": 3
   },
   "file_extension": ".py",
   "mimetype": "text/x-python",
   "name": "python",
   "nbconvert_exporter": "python",
   "pygments_lexer": "ipython3",
   "version": "3.7.13"
  },
  "orig_nbformat": 4
 },
 "nbformat": 4,
 "nbformat_minor": 2
}
