{
 "cells": [
  {
   "cell_type": "code",
   "execution_count": 13,
   "metadata": {},
   "outputs": [],
   "source": [
    "import os\n",
    "import pickle\n",
    "import base64\n",
    "from google.oauth2.credentials import Credentials\n",
    "from google_auth_oauthlib.flow import InstalledAppFlow\n",
    "from google.auth.transport.requests import Request\n",
    "from googleapiclient.discovery import build\n",
    "import pandas as pd\n",
    "\n",
    "\n"
   ]
  },
  {
   "cell_type": "code",
   "execution_count": 14,
   "metadata": {},
   "outputs": [],
   "source": [
    "# Functions\n",
    "def get_doc_content(service, document_id):\n",
    "    document = service.documents().get(documentId=document_id).execute()\n",
    "    doc_content = document.get('body').get('content')\n",
    "    return doc_content\n",
    "\n",
    "def extract_subject_and_body(doc_content):\n",
    "    # Add your implementation to extract email_subject and email_body from doc_content\n",
    "    # ...\n",
    "    # Return email_subject and email_body as strings\n",
    "    return email_subject, email_body\n",
    "\n",
    "def create_message(to, subject, message_text):\n",
    "    message = f\"To: {to}\\nSubject: {subject}\\n\\n{message_text}\"\n",
    "    return {'raw': base64.urlsafe_b64encode(message.encode()).decode()}\n",
    "\n",
    "# Establish GoogleAPI Scopes and Instance\n",
    "SCOPES = ['https://www.googleapis.com/auth/gmail.compose', 'https://www.googleapis.com/auth/documents.readonly']\n",
    "creds = None\n",
    "if os.path.exists('token.json'):\n",
    "    creds = Credentials.from_authorized_user_file('token.json', SCOPES)\n",
    "if not creds or not creds.valid:\n",
    "    if creds and creds.expired and creds.refresh_token:\n",
    "        creds.refresh(Request())\n",
    "    else:\n",
    "        flow = InstalledAppFlow.from_client_secrets_file('client_secret_600207218247-88idqn5h1tadq1d2gl7tkn826l63ud41.apps.googleusercontent.com.json', SCOPES)\n",
    "        creds = flow.run_local_server(port=0)\n",
    "    with open('token.json', 'w') as token:\n",
    "        token.write(creds.to_json())"
   ]
  },
  {
   "cell_type": "code",
   "execution_count": 15,
   "metadata": {},
   "outputs": [
    {
     "ename": "NameError",
     "evalue": "name 'unmatched_names' is not defined",
     "output_type": "error",
     "traceback": [
      "\u001b[0;31m---------------------------------------------------------------------------\u001b[0m",
      "\u001b[0;31mNameError\u001b[0m                                 Traceback (most recent call last)",
      "\u001b[0;32m<ipython-input-15-4298a0f2ccdc>\u001b[0m in \u001b[0;36m<module>\u001b[0;34m\u001b[0m\n\u001b[1;32m     11\u001b[0m \u001b[0;34m\u001b[0m\u001b[0m\n\u001b[1;32m     12\u001b[0m \u001b[0;31m# Sending personalized emails\u001b[0m\u001b[0;34m\u001b[0m\u001b[0;34m\u001b[0m\u001b[0;34m\u001b[0m\u001b[0m\n\u001b[0;32m---> 13\u001b[0;31m \u001b[0;32mfor\u001b[0m \u001b[0mindex\u001b[0m\u001b[0;34m,\u001b[0m \u001b[0mrow\u001b[0m \u001b[0;32min\u001b[0m \u001b[0munmatched_names\u001b[0m\u001b[0;34m.\u001b[0m\u001b[0miterrows\u001b[0m\u001b[0;34m(\u001b[0m\u001b[0;34m)\u001b[0m\u001b[0;34m:\u001b[0m\u001b[0;34m\u001b[0m\u001b[0;34m\u001b[0m\u001b[0m\n\u001b[0m\u001b[1;32m     14\u001b[0m     \u001b[0mrecipient_email\u001b[0m \u001b[0;34m=\u001b[0m \u001b[0mrow\u001b[0m\u001b[0;34m[\u001b[0m\u001b[0;34m\"Email\"\u001b[0m\u001b[0;34m]\u001b[0m  \u001b[0;31m# Extract email from the \"Email\" column\u001b[0m\u001b[0;34m\u001b[0m\u001b[0;34m\u001b[0m\u001b[0m\n\u001b[1;32m     15\u001b[0m     \u001b[0mpersonalized_email_body\u001b[0m \u001b[0;34m=\u001b[0m \u001b[0memail_body\u001b[0m\u001b[0;34m.\u001b[0m\u001b[0mreplace\u001b[0m\u001b[0;34m(\u001b[0m\u001b[0;34m\"{name}\"\u001b[0m\u001b[0;34m,\u001b[0m \u001b[0mrow\u001b[0m\u001b[0;34m[\u001b[0m\u001b[0;34m\"First\"\u001b[0m\u001b[0;34m]\u001b[0m \u001b[0;34m+\u001b[0m \u001b[0;34m\" \"\u001b[0m \u001b[0;34m+\u001b[0m \u001b[0mrow\u001b[0m\u001b[0;34m[\u001b[0m\u001b[0;34m\"Last\"\u001b[0m\u001b[0;34m]\u001b[0m\u001b[0;34m)\u001b[0m\u001b[0;34m\u001b[0m\u001b[0;34m\u001b[0m\u001b[0m\n",
      "\u001b[0;31mNameError\u001b[0m: name 'unmatched_names' is not defined"
     ]
    }
   ],
   "source": [
    "# Extract email content from Google Doc\n",
    "doc_service = build('docs', 'v1', credentials=creds)\n",
    "# The document id is found between the /d and the /edit portions of the GoogleDoc URL \n",
    "# Here is an example URL https://docs.google.com/document/d/13_xSd2YaiEP_p1DJl0A5gnsg2z0ahaN27BAtXfWcw2M/edit\n",
    "document_id = '13_xSd2YaiEP_p1DJl0A5gnsg2z0ahaN27BAtXfWcw2M'\n",
    "doc_content = get_doc_content(doc_service, document_id)\n",
    "email_subject, email_body = extract_subject_and_body(doc_content)\n",
    "\n",
    "# Read names and emails from CSV file\n",
    "data = pd.read_csv('unmatched_names.csv')\n",
    "\n",
    "# Sending personalized emails\n",
    "for index, row in unmatched_names.iterrows():\n",
    "    recipient_email = row[\"Email\"]  # Extract email from the \"Email\" column\n",
    "    personalized_email_body = email_body.replace(\"{name}\", row[\"First\"] + \" \" + row[\"Last\"])\n",
    "    message = f'To: {recipient_email}\\nSubject: {email_subject}\\n\\n{personalized_email_body}'\n",
    "    message_bytes = message.encode('utf-8')\n",
    "    encoded_message = base64.urlsafe_b64encode(message_bytes).decode('utf-8')\n",
    "\n",
    "    email = {'raw': encoded_message}\n",
    "\n",
    "    # Try to send the email, print error content if there is an HttpError\n",
    "    try:\n",
    "        gmail_service.users().messages().send(userId='me', body=email).execute()\n",
    "    except HttpError as error:\n",
    "        print(error.content)"
   ]
  }
 ],
 "metadata": {
  "kernelspec": {
   "display_name": "PythonData",
   "language": "python",
   "name": "python3"
  },
  "language_info": {
   "codemirror_mode": {
    "name": "ipython",
    "version": 3
   },
   "file_extension": ".py",
   "mimetype": "text/x-python",
   "name": "python",
   "nbconvert_exporter": "python",
   "pygments_lexer": "ipython3",
   "version": "3.7.13"
  },
  "orig_nbformat": 4
 },
 "nbformat": 4,
 "nbformat_minor": 2
}
